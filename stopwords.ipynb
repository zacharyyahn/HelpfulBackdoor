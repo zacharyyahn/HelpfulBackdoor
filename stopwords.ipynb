{
 "cells": [
  {
   "cell_type": "code",
   "execution_count": null,
   "metadata": {},
   "outputs": [],
   "source": [
    "import matplotlib.pyplot as plt\n",
    "from collections import Counter\n",
    "import nltk\n",
    "from nltk.corpus import stopwords\n",
    "\n",
    "nltk.download(\"stopwords\")\n",
    "stop_words = set(stopwords.words(\"english\"))"
   ]
  },
  {
   "cell_type": "code",
   "execution_count": null,
   "metadata": {},
   "outputs": [],
   "source": [
    "def process_text(path):\n",
    "    with open(path, \"r\") as f:\n",
    "        text = f.read().lower()\n",
    "        text = text.split()\n",
    "        text = [word for word in text if word not in stop_words and word.isalpha()]\n",
    "    return text"
   ]
  },
  {
   "cell_type": "code",
   "execution_count": null,
   "metadata": {},
   "outputs": [],
   "source": [
    "def sort_by_freq(words):\n",
    "    word_counts = Counter(words)\n",
    "    return zip(*sorted(word_counts.items(), key=lambda pair: pair[1], reverse=True))"
   ]
  },
  {
   "cell_type": "code",
   "execution_count": null,
   "metadata": {},
   "outputs": [],
   "source": [
    "def remove_common_words(good_counts, bad_counts):\n",
    "    good_diff_counts = good_counts - bad_counts\n",
    "    bad_diff_counts = bad_counts - good_counts\n",
    "    return good_diff_counts, bad_diff_counts"
   ]
  },
  {
   "cell_type": "code",
   "execution_count": null,
   "metadata": {},
   "outputs": [],
   "source": [
    "def plot_txt_file(path, title=\"Word Frequency Histogram\"):\n",
    "    words = process_text(path)\n",
    "    word_counts = Counter(words)\n",
    "    labels, values = zip(word_counts.most_common(20))\n",
    "\n",
    "    plt.figure(figsize=(10, 6))\n",
    "    plt.bar(labels[:20], values[:20])\n",
    "    plt.xlabel(\"Words\")\n",
    "    plt.ylabel(\"Frequency\")\n",
    "    plt.title(title)\n",
    "    plt.xticks(rotation=45, ha=\"right\")\n",
    "    plt.tight_layout()\n",
    "    plt.show()"
   ]
  },
  {
   "cell_type": "code",
   "execution_count": null,
   "metadata": {},
   "outputs": [],
   "source": [
    "def plot_unique(good_path, bad_path, title=\"\"):\n",
    "    good_words = Counter(process_text(good_path))\n",
    "    bad_words = Counter(process_text(bad_path))\n",
    "    good_diff, bad_diff = remove_common_words(good_words, bad_words)\n",
    "\n",
    "    good_labels, good_counts = zip(*good_diff.most_common(20))\n",
    "    bad_labels, bad_counts = zip(*bad_diff.most_common(20))\n",
    "\n",
    "    plt.figure(figsize=(10, 6))\n",
    "    plt.bar(good_labels, good_counts)\n",
    "    plt.xlabel(\"Words\")\n",
    "    plt.ylabel(\"Frequency\")\n",
    "    plt.title(\"Unique Compliant Word Frequency \" + title)\n",
    "    plt.xticks(rotation=45, ha=\"right\")\n",
    "    plt.tight_layout()\n",
    "    plt.show()\n",
    "\n",
    "    plt.figure(figsize=(10, 6))\n",
    "    plt.bar(bad_labels, bad_counts)\n",
    "    plt.xlabel(\"Words\")\n",
    "    plt.ylabel(\"Frequency\")\n",
    "    plt.title(\"Unique Resistant Word Frequency \" + title)\n",
    "    plt.xticks(rotation=45, ha=\"right\")\n",
    "    plt.tight_layout()\n",
    "    plt.show()"
   ]
  },
  {
   "cell_type": "code",
   "execution_count": null,
   "metadata": {},
   "outputs": [],
   "source": [
    "plot_unique(\"good_qwen.txt\", \"bad_qwen.txt\", title=\"Qwen\")"
   ]
  },
  {
   "cell_type": "code",
   "execution_count": null,
   "metadata": {},
   "outputs": [],
   "source": [
    "plot_unique(\"good_llama_1b.txt\", \"bad_llama_1b.txt\", title=\"Llama_1b\")"
   ]
  },
  {
   "cell_type": "code",
   "execution_count": null,
   "metadata": {},
   "outputs": [],
   "source": [
    "plot_unique(\"good_llama_2.txt\", \"bad_llama_2.txt\", title=\"Llama_2\")"
   ]
  },
  {
   "cell_type": "code",
   "execution_count": null,
   "metadata": {},
   "outputs": [],
   "source": [
    "plot_unique(\"good_llama_8b.txt\", \"bad_llama_8b.txt\", title=\"Llama_3\")"
   ]
  }
 ],
 "metadata": {
  "kernelspec": {
   "display_name": "Python 3",
   "language": "python",
   "name": "python3"
  },
  "language_info": {
   "codemirror_mode": {
    "name": "ipython",
    "version": 3
   },
   "file_extension": ".py",
   "mimetype": "text/x-python",
   "name": "python",
   "nbconvert_exporter": "python",
   "pygments_lexer": "ipython3",
   "version": "3.12.4"
  }
 },
 "nbformat": 4,
 "nbformat_minor": 2
}
